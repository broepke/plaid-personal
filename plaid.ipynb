{
 "cells": [
  {
   "cell_type": "markdown",
   "metadata": {},
   "source": [
    "Try this: https://github.com/plaid/quickstart/tree/masterm"
   ]
  },
  {
   "cell_type": "code",
   "execution_count": 1,
   "metadata": {},
   "outputs": [],
   "source": [
    "import os\n",
    "import plaid\n",
    "from plaid.api import plaid_api"
   ]
  },
  {
   "cell_type": "code",
   "execution_count": 2,
   "metadata": {},
   "outputs": [],
   "source": [
    "CLIENT_ID = os.environ.get(\"PLAID_CLIENTID\")\n",
    "SECRET = os.environ.get(\"PLAID_SAND\")"
   ]
  },
  {
   "cell_type": "code",
   "execution_count": 3,
   "metadata": {},
   "outputs": [],
   "source": [
    "# Available environments are\n",
    "# 'Production'\n",
    "# 'Development'\n",
    "# 'Sandbox'\n",
    "configuration = plaid.Configuration(\n",
    "    host=plaid.Environment.Development,\n",
    "    api_key={\n",
    "        'clientId': CLIENT_ID,\n",
    "        'secret': SECRET,\n",
    "    }\n",
    ")\n",
    "\n",
    "api_client = plaid.ApiClient(configuration)\n",
    "client = plaid_api.PlaidApi(api_client)"
   ]
  },
  {
   "cell_type": "code",
   "execution_count": 4,
   "metadata": {},
   "outputs": [
    {
     "data": {
      "text/plain": [
       "<plaid.api.plaid_api.PlaidApi at 0x1040185d0>"
      ]
     },
     "execution_count": 4,
     "metadata": {},
     "output_type": "execute_result"
    }
   ],
   "source": [
    "client"
   ]
  },
  {
   "cell_type": "code",
   "execution_count": null,
   "metadata": {},
   "outputs": [],
   "source": []
  }
 ],
 "metadata": {
  "kernelspec": {
   "display_name": "venv",
   "language": "python",
   "name": "python3"
  },
  "language_info": {
   "codemirror_mode": {
    "name": "ipython",
    "version": 3
   },
   "file_extension": ".py",
   "mimetype": "text/x-python",
   "name": "python",
   "nbconvert_exporter": "python",
   "pygments_lexer": "ipython3",
   "version": "3.11.6"
  }
 },
 "nbformat": 4,
 "nbformat_minor": 2
}
